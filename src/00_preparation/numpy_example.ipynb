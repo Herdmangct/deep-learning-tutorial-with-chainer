{
 "cells": [
  {
   "cell_type": "markdown",
   "metadata": {
    "collapsed": true
   },
   "source": [
    "# Numpy example\n",
    "\n",
    "Numpy hands on examples to be familiar with numpy behavior."
   ]
  },
  {
   "cell_type": "markdown",
   "metadata": {},
   "source": [
    "## Creating numpy.ndarray\n",
    "\n",
    "numpy.ndarray can be created by following methods\n",
    "* array\n",
    "* asarray\n",
    "* empty\n",
    "* zeros\n",
    "* ones"
   ]
  },
  {
   "cell_type": "markdown",
   "metadata": {},
   "source": [
    "## Attributes\n",
    "\n",
    "numpy has following attributes (showing only major attributes)\n",
    "* dtype\n",
    "* shape\n",
    "* ndim\n",
    "* size"
   ]
  },
  {
   "cell_type": "code",
   "execution_count": 23,
   "metadata": {},
   "outputs": [],
   "source": [
    "import numpy as np  # numpy is often imported as np for short terminology\n",
    "\n",
    "\n",
    "def print_numpy_attributes(a):\n",
    "    \"\"\"dumps ``numpy.ndarray`` attribute information \n",
    "    \n",
    "    :param a: \n",
    "    :type a: np.ndarray \n",
    "    :return: \n",
    "    \"\"\"\n",
    "    print('----- numpy attributes info -----')\n",
    "    print('', a)  # data will be printed. this is same with a.data\n",
    "    print('type', type(a))  # should be <class 'numpy.ndarray'>\n",
    "    print('data', a.data)   # actual array data\n",
    "    print('dtype', a.dtype)  # type of data (int, float32 etc)\n",
    "    print('shape', a.shape)  # dimensional information of data (2, 3) etc.\n",
    "    print('ndim', a.ndim)  # total dimension of shape. 0 means scalar, 1 is vector, 2 is matrix... \n",
    "    print('size', a.size)  # total size of data, which is product sum of shape\n",
    "    print('---------------------------------')"
   ]
  },
  {
   "cell_type": "code",
   "execution_count": 24,
   "metadata": {},
   "outputs": [
    {
     "name": "stdout",
     "output_type": "stream",
     "text": [
      "----- numpy attributes info -----\n 3\ntype <class 'numpy.ndarray'>\ndata <memory at 0x0000019ABAB15D68>\ndtype int32\nshape ()\nndim 0\nsize 1\n---------------------------------\n"
     ]
    }
   ],
   "source": [
    "# 1. creating scalar\n",
    "a1 = np.array(3)  # note that np.array([3]) will create vector with 1 element\n",
    "print_numpy_attributes(a1)"
   ]
  },
  {
   "cell_type": "code",
   "execution_count": 25,
   "metadata": {},
   "outputs": [
    {
     "name": "stdout",
     "output_type": "stream",
     "text": [
      "[1, 2, 3] <class 'list'>\n----- numpy attributes info -----\n [1 2 3]\ntype <class 'numpy.ndarray'>\ndata <memory at 0x0000019ABAFD1AC8>\ndtype int32\nshape (3,)\nndim 1\nsize 3\n---------------------------------\n"
     ]
    }
   ],
   "source": [
    "# 2. creating vector\n",
    "l2 = [1, 2, 3]\n",
    "a2 = np.array(l2)\n",
    "print(l2, type(l2))         # l2 is list\n",
    "print_numpy_attributes(a2)  # a2 is numpy.ndarray"
   ]
  },
  {
   "cell_type": "code",
   "execution_count": 26,
   "metadata": {},
   "outputs": [
    {
     "name": "stdout",
     "output_type": "stream",
     "text": [
      "----- numpy attributes info -----\n [[1 2 3]\n [4 5 6]]\ntype <class 'numpy.ndarray'>\ndata <memory at 0x0000019ABAB2B1F8>\ndtype int32\nshape (2, 3)\nndim 2\nsize 6\n---------------------------------\n"
     ]
    }
   ],
   "source": [
    "# 3. creating matrix\n",
    "l3 = [[1, 2, 3], [4, 5, 6]]\n",
    "a3 = np.array(l3)\n",
    "# print(l3, type(l3))\n",
    "print_numpy_attributes(a3)"
   ]
  },
  {
   "cell_type": "code",
   "execution_count": 27,
   "metadata": {},
   "outputs": [
    {
     "name": "stdout",
     "output_type": "stream",
     "text": [
      "----- numpy attributes info -----\n [[[ 1  2  3]\n  [ 4  5  6]]\n\n [[11 22 33]\n  [44 55 66]]]\ntype <class 'numpy.ndarray'>\ndata <memory at 0x0000019ABAFE2138>\ndtype int32\nshape (2, 2, 3)\nndim 3\nsize 12\n---------------------------------\n"
     ]
    }
   ],
   "source": [
    "# 4. creating general multi-dimensional array (tensor)\n",
    "a4 = np.array([\n",
    "    [[1, 2, 3], [4, 5, 6]],\n",
    "    [[11, 22, 33], [44, 55, 66]]\n",
    "    ]\n",
    ")\n",
    "print_numpy_attributes(a4)"
   ]
  },
  {
   "cell_type": "code",
   "execution_count": null,
   "metadata": {},
   "outputs": [],
   "source": [
    ""
   ]
  }
 ],
 "metadata": {
  "kernelspec": {
   "display_name": "Python 2",
   "language": "python",
   "name": "python2"
  },
  "language_info": {
   "codemirror_mode": {
    "name": "ipython",
    "version": 2.0
   },
   "file_extension": ".py",
   "mimetype": "text/x-python",
   "name": "python",
   "nbconvert_exporter": "python",
   "pygments_lexer": "ipython2",
   "version": "2.7.6"
  }
 },
 "nbformat": 4,
 "nbformat_minor": 0
}