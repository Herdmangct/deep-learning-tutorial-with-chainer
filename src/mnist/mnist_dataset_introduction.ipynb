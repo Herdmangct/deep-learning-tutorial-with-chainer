{
 "cells": [
  {
   "cell_type": "markdown",
   "metadata": {
    "collapsed": true
   },
   "source": [
    "# MNIST dataset introduction\n",
    "\n",
    "## MNIST dataset\n",
    "\n",
    "MNIST (Mixed [National Institute of Standards and Technology](https://en.wikipedia.org/wiki/National_Institute_of_Standards_and_Technology)) database is dataset for handwritten digits, distributed by Yann Lecun's [THE MNIST DATABASE of handwritten digits](http://yann.lecun.com/exdb/mnist/) website.\n",
    "\n",
    " - [Wikipedia](https://en.wikipedia.org/wiki/MNIST_database)\n",
    "\n",
    "The dataset consists of pair, \"handwritten digit image\" and \"label\". Digit ranges from 0 to 9, meaning 10 patterns in total.\n",
    "\n",
    " - handwritten digit image: This is gray scale image with size 28 x 28 pixel.\n",
    " - label : This is actual digit number this handwritten digit image represents. It is either  0 to 9.\n",
    "\n",
    "![MNIST dataset example](images/mnist_plot.png)\n",
    "\n",
    "Several samples of \"handwritten digit image\" and its \"label\" from MNIST dataset.\n",
    "\n",
    "MNIST dataset is widely used for \"classification\", \"image recognition\" task. This is considered as relatively simple task, and often used for \"Hello world\" program in machine learning category. It is also often used to compare algorithm performances in research.\n",
    "\n",
    "Handling MNIST dataset with Chainer\n",
    "\n",
    "For these famous datasets like MNIST, Chainer provides utility function to prepare dataset. So you don't need to write preprocessing code by your own, downloading dataset from internet, and extract it, followed by formatting it etc... Chainer function do it for you!\n",
    "\n",
    "Currently,\n",
    "\n",
    "MNIST\n",
    "CIFAR-10, CIFAR-100\n",
    "Penn Tree Bank (PTB)\n",
    "are supported, refer Official document for dataset.\n",
    "\n",
    "Let's get familiar with MNIST dataset handling at first. Below codes are based on mnist_dataset.ipynb. To prepare MNIST dataset, you just need to call chainer.datasets.get_mnist function."
   ]
  },
  {
   "cell_type": "code",
   "execution_count": 7,
   "metadata": {},
   "outputs": [],
   "source": [
    "import numpy as np\n",
    "import chainer\n",
    "\n",
    "# Load the MNIST dataset from pre-inn chainer method\n",
    "train, test = chainer.datasets.get_mnist()"
   ]
  },
  {
   "cell_type": "markdown",
   "metadata": {},
   "source": [
    "If this is first time, it starts downloading the dataset which might take several minutes. From second time, chainer will refer the cached contents automatically so it runs faster.\n",
    "\n",
    "You will get 2 returns, each of them corresponds to \"training dataset\" and \"test dataset\".\n",
    "\n",
    "MNIST have total 70000 data, where training dataset size is 60000, and test dataset size is 10000."
   ]
  },
  {
   "cell_type": "code",
   "execution_count": 8,
   "metadata": {},
   "outputs": [
    {
     "name": "stdout",
     "output_type": "stream",
     "text": [
      "len(train), type  60000 <class 'chainer.datasets.tuple_dataset.TupleDataset'>\nlen(test), type  10000 <class 'chainer.datasets.tuple_dataset.TupleDataset'>\n"
     ]
    }
   ],
   "source": [
    "# train[i] represents i-th data, there are 60000 training data\n",
    "# test data structure is same, but total 10000 test data\n",
    "print('len(train), type ', len(train), type(train))\n",
    "print('len(test), type ', len(test), type(test))"
   ]
  },
  {
   "cell_type": "markdown",
   "metadata": {},
   "source": [
    "I will explain about only train dataset below, but test dataset have same dataset format.\n",
    "\n",
    "`train[i]` represents i-th data, type=tuple($ x_i $, $y_i $), where $ x_i $ is image data in array format with size 784, and $y_i$ is label data indicates actual digit of image."
   ]
  },
  {
   "cell_type": "code",
   "execution_count": 9,
   "metadata": {},
   "outputs": [
    {
     "name": "stdout",
     "output_type": "stream",
     "text": [
      "train[0] <class 'tuple'> 2\n"
     ]
    }
   ],
   "source": [
    "print('train[0]', type(train[0]), len(train[0]))\n",
    "# print(train[0])  # x_i = long array and y_i = label"
   ]
  },
  {
   "cell_type": "markdown",
   "metadata": {},
   "source": [
    "$x_i $ information. You can see that image is represented as just an array of float numbers ranging from 0 to 1. MNIST image size is 28 × 28 pixel, so it is represented as 784 1-d array."
   ]
  },
  {
   "cell_type": "code",
   "execution_count": 22,
   "metadata": {},
   "outputs": [
    {
     "name": "stdout",
     "output_type": "stream",
     "text": [
      "train[0][0] (784,)\n[ 0.  0.  0. ...,  0.  0.  0.]\n"
     ]
    }
   ],
   "source": [
    "# train[i][0] represents x_i, MNIST image data,\n",
    "# type=numpy(784,) vector <- specified by ndim of get_mnist()\n",
    "print('train[0][0]', train[0][0].shape)\n",
    "np.set_printoptions(threshold=10)  # set np.inf to print all.\n",
    "print(train[0][0])"
   ]
  },
  {
   "cell_type": "markdown",
   "metadata": {},
   "source": [
    "$y_i $ information. In below case you can see that 0-th image has label \"5\"."
   ]
  },
  {
   "cell_type": "code",
   "execution_count": 23,
   "metadata": {},
   "outputs": [
    {
     "name": "stdout",
     "output_type": "stream",
     "text": [
      "train[0][1] () 5\n"
     ]
    }
   ],
   "source": [
    "# train[i][1] represents y_i, MNIST label data(0-9), type=numpy() -> this means scalar\n",
    "print('train[0][1]', train[0][1].shape, train[0][1])"
   ]
  },
  {
   "cell_type": "markdown",
   "metadata": {},
   "source": [
    "Plotting MNIST\n",
    "\n",
    "So, each i-th dataset consists of image and label\n",
    "- train[i][0] or test[i][0]: i-th handwritten image\n",
    "- train[i][1] or test[i][1]: i-th label\n",
    "\n",
    "Below is a plotting code to check how images (this is just an array vector in python program) look like. This code will generate the MNIST image which was shown in the top of this articl"
   ]
  },
  {
   "cell_type": "code",
   "execution_count": 27,
   "metadata": {},
   "outputs": [
    {
     "data": {
      "image/png": "[encoded data removed]",
      "text/plain": [
       "<matplotlib.figure.Figure at 0x16930d8f978>"
      ]
     },
     "metadata": {},
     "output_type": "display_data"
    }
   ],
   "source": [
    "import os\n",
    "\n",
    "import chainer\n",
    "import matplotlib\n",
    "import matplotlib.pyplot as plt\n",
    "%matplotlib inline\n",
    "\n",
    "base_dir = 'src/mnist/images'\n",
    "\n",
    "# Load the MNIST dataset from pre-inn chainer method\n",
    "train, test = chainer.datasets.get_mnist(ndim=1)\n",
    "\n",
    "ROW = 4\n",
    "COLUMN = 5\n",
    "for i in range(ROW * COLUMN):\n",
    "    # train[i][0] is i-th image data with size 28x28\n",
    "    image = train[i][0].reshape(28, 28)   # not necessary to reshape if ndim is set to 2\n",
    "    plt.subplot(ROW, COLUMN, i+1)          # subplot with size (width 3, height 5)\n",
    "    plt.imshow(image, cmap='gray')  # cmap='gray' is for black and white picture.\n",
    "    # train[i][1] is i-th digit label\n",
    "    plt.title('label = {}'.format(train[i][1]))\n",
    "    plt.axis('off')  # do not show axis value\n",
    "plt.tight_layout()   # automatic padding between subplots\n",
    "plt.savefig(os.path.join(base_dir, 'mnist_plot.png'))\n",
    "#plt.show()"
   ]
  },
  {
   "cell_type": "markdown",
   "metadata": {},
   "source": [
    "[Hands on] Try plotting \"test\" dataset instead of \"train\" dataset."
   ]
  },
  {
   "cell_type": "code",
   "execution_count": null,
   "metadata": {},
   "outputs": [],
   "source": [
    ""
   ]
  }
 ],
 "metadata": {
  "kernelspec": {
   "display_name": "Python 2",
   "language": "python",
   "name": "python2"
  },
  "language_info": {
   "codemirror_mode": {
    "name": "ipython",
    "version": 2.0
   },
   "file_extension": ".py",
   "mimetype": "text/x-python",
   "name": "python",
   "nbconvert_exporter": "python",
   "pygments_lexer": "ipython2",
   "version": "2.7.6"
  }
 },
 "nbformat": 4,
 "nbformat_minor": 0
}