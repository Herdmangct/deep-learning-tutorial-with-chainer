{
 "cells": [
  {
   "cell_type": "markdown",
   "metadata": {
    "collapsed": false
   },
   "source": [
    "# Chainer basic module introduction 2\n",
    "\n",
    "Advanced memo is written as \"Note\". You can skip reading this for the first time reading."
   ]
  },
  {
   "cell_type": "markdown",
   "metadata": {},
   "source": [
    "In previous tutorial, we learned\n",
    "* Variable\n",
    "* Link\n",
    "* Function\n",
    "* Chain\n",
    "\n",
    "Let's try training the model (Chain) in this tutorial.\n",
    "In this section, we will learn\n",
    "\n",
    "* Optimizer   - Optimizes/tunes the internal parameter to fit to the target function\n",
    "* Serializer  - Handle save/load the model (Chain)\n",
    "\n",
    "For other chainer modules are explained in later tutorial."
   ]
  },
  {
   "cell_type": "markdown",
   "metadata": {},
   "source": [
    "## Training\n",
    "\n",
    "What we want to do here is regression analysis (Wikipedia).\n",
    "Given set of input `x` and its output `y`, \n",
    "we would like to construct a model (function) which estimates `y` as close as possible from given input `x`.\n",
    "\n",
    "This is done by tuning an internal parameters of model (this is represented by Chain class in Chainer).\n",
    "And the procedure to tune this internal parameters of model to get a desired model is often denoted as \"training\"."
   ]
  },
  {
   "cell_type": "markdown",
   "metadata": {},
   "source": [
    "## Initial setup\n",
    "\n",
    "Below is typecal `import` statement of chainer modules."
   ]
  },
  {
   "cell_type": "code",
   "execution_count": 1,
   "metadata": {},
   "outputs": [],
   "source": [
    "# Initial setup following http://docs.chainer.org/en/stable/tutorial/basic.html\n",
    "import numpy as np\n",
    "import chainer\n",
    "from chainer import cuda, Function, gradient_check, report, training, utils, Variable\n",
    "from chainer import datasets, iterators, optimizers, serializers\n",
    "from chainer import Link, Chain, ChainList\n",
    "import chainer.functions as F\n",
    "import chainer.links as L\n",
    "from chainer.training import extensions"
   ]
  },
  {
   "cell_type": "code",
   "execution_count": 2,
   "metadata": {},
   "outputs": [
    {
     "data": {
      "image/png": "[encoded data removed]",
      "text/plain": [
       "<matplotlib.figure.Figure at 0x24c165345f8>"
      ]
     },
     "metadata": {},
     "output_type": "display_data"
    },
    {
     "data": {
      "image/png": "[encoded data removed]",
      "text/plain": [
       "<matplotlib.figure.Figure at 0x24c165349e8>"
      ]
     },
     "metadata": {},
     "output_type": "display_data"
    }
   ],
   "source": [
    "import matplotlib.pyplot as plt\n",
    "\n",
    "\n",
    "# define target function\n",
    "def target_func(x):\n",
    "    \"\"\"Target function to be predicted\"\"\"\n",
    "    return x ** 3 - x ** 2 + x - 3\n",
    "\n",
    "# create efficient function to calculate target_func of numpy array in element wise\n",
    "target_func_elementwise = np.frompyfunc(target_func, 1, 1)\n",
    "\n",
    "\n",
    "# define data domain [xmin, xmax]\n",
    "xmin = -3\n",
    "xmax = 3\n",
    "# number of training data\n",
    "sample_num = 20\n",
    "x_data = np.array(np.random.rand(sample_num) * (xmax - xmin) + xmin)  # create 20 \n",
    "y_data = target_func_elementwise(x_data)\n",
    "\n",
    "x_detail_data = np.array(np.arange(xmin, xmax, 0.1))\n",
    "y_detail_data = target_func_elementwise(x_detail_data)\n",
    "\n",
    "\n",
    "# plot training data\n",
    "plt.clf()\n",
    "plt.scatter(x_data, y_data, color='r')\n",
    "plt.show()\n",
    "#print('x', x_data, 'y', y_data)\n",
    "\n",
    "# plot target function\n",
    "plt.clf()\n",
    "plt.plot(x_detail_data, y_detail_data)\n",
    "plt.show()"
   ]
  },
  {
   "cell_type": "code",
   "execution_count": 3,
   "metadata": {},
   "outputs": [],
   "source": [
    ""
   ]
  },
  {
   "cell_type": "markdown",
   "metadata": {},
   "source": [
    "Our task is to make regression "
   ]
  },
  {
   "cell_type": "markdown",
   "metadata": {},
   "source": [
    "## Linear regression using sklearn\n",
    "\n",
    "You can skip this section if you are only interested in Chainer or deep learning.\n",
    "At first, let's see linear regression approach. \n",
    "using sklearn library, \n",
    "\n",
    "Reference: [http://scikit-learn.org/stable/modules/generated/sklearn.linear_model.LinearRegression.html](http://scikit-learn.org/stable/modules/generated/sklearn.linear_model.LinearRegression.html)"
   ]
  },
  {
   "cell_type": "code",
   "execution_count": 4,
   "metadata": {},
   "outputs": [
    {
     "data": {
      "image/png": "[encoded data removed]",
      "text/plain": [
       "<matplotlib.figure.Figure at 0x24c166600f0>"
      ]
     },
     "metadata": {},
     "output_type": "display_data"
    }
   ],
   "source": [
    "from sklearn import linear_model\n",
    "\n",
    "# clf stands for 'classifier'\n",
    "model = linear_model.LinearRegression()\n",
    "model.fit(x_data.reshape(-1, 1), y_data)\n",
    "\n",
    "y_predict_data = model.predict(x_detail_data.reshape(-1, 1))\n",
    "plt.clf()\n",
    "plt.scatter(x_data, y_data, color='r')\n",
    "plt.plot(x_detail_data, y_predict_data)\n",
    "plt.show()"
   ]
  },
  {
   "cell_type": "markdown",
   "metadata": {},
   "source": [
    "## Optimizer\n",
    "Chainer optimizer manages the optimization process of model fit.\n",
    "\n",
    "Concretely, current deep learning works based on the technic of Stocastic Gradient Descent (SGD) based method.\n",
    "Chainer provides several optimizers in `chainer.optimizers` module, which includes following\n",
    "\n",
    "* SGD\n",
    "* MomentumSGD\n",
    "* AdaGrad\n",
    "* AdaDelta\n",
    "* Adam\n",
    "\n",
    "Around my community, MomentumSGD and Adam are more used these days."
   ]
  },
  {
   "cell_type": "markdown",
   "metadata": {},
   "source": [
    "## Construct model - implement your own Chain\n",
    "\n",
    "`Chain` is to construct neural networks.\n",
    "\n",
    "Let's see example,"
   ]
  },
  {
   "cell_type": "code",
   "execution_count": 5,
   "metadata": {},
   "outputs": [],
   "source": [
    "from chainer import Chain, Variable\n",
    "\n",
    "\n",
    "# Defining your own neural networks using `Chain` class\n",
    "class MyChain(Chain):\n",
    "    def __init__(self):\n",
    "        super(MyChain, self).__init__(\n",
    "            l1=L.Linear(None, 30),\n",
    "            l2=L.Linear(None, 30),\n",
    "            l3=L.Linear(None, 1)\n",
    "        )\n",
    "        \n",
    "    def __call__(self, x):\n",
    "        h = self.l1(x)\n",
    "        h = self.l2(F.sigmoid(h))\n",
    "        return self.l3(F.sigmoid(h))"
   ]
  },
  {
   "cell_type": "markdown",
   "metadata": {},
   "source": [
    "Here `L.Linear` is defined with `None` in first argument, input size.\n",
    "When `None` is used, Linear Link will determine its input size at the first time when it gets the input Variable.\n",
    "In other words, Link's input size can be dynamically defined and you don't need to fix the size at the declaration timing.\n",
    "This flexibility comes from the Chainer's concept \"define by run\". "
   ]
  },
  {
   "cell_type": "code",
   "execution_count": 6,
   "metadata": {},
   "outputs": [
    {
     "data": {
      "image/png": "[encoded data removed]",
      "text/plain": [
       "<matplotlib.figure.Figure at 0x24c166465f8>"
      ]
     },
     "metadata": {},
     "output_type": "display_data"
    }
   ],
   "source": [
    "# Setup a model\n",
    "model = MyChain()\n",
    "# Setup an optimizer\n",
    "optimizer = chainer.optimizers.MomentumSGD()\n",
    "optimizer.use_cleargrads()  # this is for performance efficiency\n",
    "optimizer.setup(model)\n",
    "\n",
    "x = Variable(x_data.reshape(-1, 1).astype(np.float32))\n",
    "y = Variable(y_data.reshape(-1, 1).astype(np.float32))\n",
    "\n",
    "\n",
    "def lossfun(x, y):\n",
    "    loss = F.mean_squared_error(model(x), y)\n",
    "    return loss\n",
    "\n",
    "# this iteration is \"training\", to fit the model into desired function.\n",
    "for i in range(300):\n",
    "    optimizer.update(lossfun, x, y)\n",
    "\n",
    "    # above one code can be replaced by below 4 codes.\n",
    "    # model.cleargrads()\n",
    "    # loss = lossfun(x, y)\n",
    "    # loss.backward()\n",
    "    # optimizer.update()\n",
    "\n",
    "\n",
    "y_predict_data = model(x_detail_data.reshape(-1, 1).astype(np.float32)).data\n",
    "\n",
    "plt.clf()\n",
    "plt.scatter(x_data, y_data, color='r')\n",
    "plt.plot(x_detail_data, np.squeeze(y_predict_data, axis=1))\n",
    "plt.show()"
   ]
  },
  {
   "cell_type": "markdown",
   "metadata": {},
   "source": [
    "Notes for data shape: `x_data` and `y_data` are reshaped when Variable is made. `Linear` function input and output is of the form (batch_index, feature_index). \n",
    "In this example, `x_data` and `y_data` have 1 dimensional feature with the batch_size = sample_num (20)."
   ]
  },
  {
   "cell_type": "markdown",
   "metadata": {},
   "source": [
    "At first, optimizer is set up as following code.\n",
    "We can choose which kind of optimizing method is used during training (in this case, MomentumSGD is used). \n",
    "\n",
    "```\n",
    "# Setup an optimizer\n",
    "optimizer = chainer.optimizers.MomentumSGD()\n",
    "optimizer.use_cleargrads()  # this is for performance efficiency\n",
    "optimizer.setup(model)\n",
    "```\n",
    "\n",
    "Once optimizer is setup, training proceeds with iterating following code.\n",
    "```\n",
    "optimizer.update(lossfun, x, y)\n",
    "```\n",
    "\n",
    "By the update, optimizer tries to tune internal parameters of model by decreasing the loss defined by `lossfun`.\n",
    "In this example, squared error is used as loss\n",
    "```\n",
    "def lossfun(x, y):\n",
    "    loss = F.mean_squared_error(model(x), y)\n",
    "    return loss\n",
    "```"
   ]
  },
  {
   "cell_type": "markdown",
   "metadata": {},
   "source": [
    "## Serializer\n",
    "Serializer supports save/load of Chainer's class.\n",
    "\n",
    "After training finished, we want to save the model so that we can load it in inference stage.\n",
    "Another usecase is that we want to save the optimizer together with the model so that we can abort and restart the training. \n",
    "\n",
    "The code below is almost same with the training code above.\n",
    "Only the difference is that \n",
    "`serializers.load_npz()` (or `serializers.load_hdf5()`) and \n",
    "`serializers.save_npz()` (or `serializers.save_hdf5()` are implemented.\n",
    "So now it supports resuming training, by implemeting save/load.\n",
    "\n",
    "Note that `model` and `optimizer` need to be instantiated to appropriate class before load."
   ]
  },
  {
   "cell_type": "code",
   "execution_count": 25,
   "metadata": {},
   "outputs": [
    {
     "name": "stdout",
     "output_type": "stream",
     "text": [
      "Loading model & optimizer\nsaving model & optimizer\n"
     ]
    },
    {
     "data": {
      "image/png": "[encoded data removed]",
      "text/plain": [
       "<matplotlib.figure.Figure at 0x24c18bf4b70>"
      ]
     },
     "metadata": {},
     "output_type": "display_data"
    }
   ],
   "source": [
    "# Execute with resume = False at first time\n",
    "# Then execute this code again and again by with resume = True\n",
    "resume = False\n",
    "\n",
    "# Setup a model\n",
    "model = MyChain()\n",
    "# Setup an optimizer\n",
    "optimizer = chainer.optimizers.MomentumSGD()\n",
    "optimizer.setup(model)\n",
    "\n",
    "x = Variable(x_data.reshape(-1, 1).astype(np.float32))\n",
    "y = Variable(y_data.reshape(-1, 1).astype(np.float32))\n",
    "\n",
    "model_save_path = 'mlp.model'\n",
    "optimizer_save_path = 'mlp.state'\n",
    "\n",
    "# Init/Resume\n",
    "if resume:\n",
    "    print('Loading model & optimizer')\n",
    "    # --- use NPZ format ---\n",
    "    serializers.load_npz(model_save_path, model)\n",
    "    serializers.load_npz(optimizer_save_path, optimizer)\n",
    "    # --- use HDF5 format (need h5py library) ---\n",
    "    #%timeit serializers.load_hdf5(model_save_path, model)\n",
    "    #serializers.load_hdf5(optimizer_save_path, optimizer)\n",
    "\n",
    "\n",
    "def lossfun(x, y):\n",
    "    loss = F.mean_squared_error(model(x), y)\n",
    "    return loss\n",
    "\n",
    "# this iteration is \"training\", to fit the model into desired function.\n",
    "# Only 20 iteration is not enough to finish training,\n",
    "# please execute this code several times by setting resume = True\n",
    "for i in range(20):\n",
    "    optimizer.update(lossfun, x, y)\n",
    "\n",
    "    # above one code can be replaced by below 4 codes.\n",
    "    # model.cleargrads()\n",
    "    # loss = lossfun(x, y)\n",
    "    # loss.backward()\n",
    "    # optimizer.update()\n",
    "\n",
    "# Save the model and the optimizer\n",
    "print('saving model & optimizer')\n",
    "\n",
    "# --- use NPZ format ---\n",
    "serializers.save_npz(model_save_path, model)\n",
    "serializers.save_npz(optimizer_save_path, optimizer)\n",
    "# --- use HDF5 format (need h5py library) ---\n",
    "#%timeit serializers.save_hdf5(model_save_path, model)\n",
    "# serializers.save_hdf5(optimizer_save_path, optimizer)\n",
    "\n",
    "y_predict_data = model(x_detail_data.reshape(-1, 1).astype(np.float32)).data\n",
    "\n",
    "plt.clf()\n",
    "plt.scatter(x_data, y_data, color='r', label='training data')\n",
    "plt.plot(x_detail_data, np.squeeze(y_predict_data, axis=1), label='model')\n",
    "plt.legend(loc='lower right')\n",
    "plt.show()"
   ]
  },
  {
   "cell_type": "markdown",
   "metadata": {},
   "source": [
    "Please execute above by setting `resume = False` at the first time, and then please execute the same code several times by setting `resume = True`.\n",
    "\n",
    "You can see \"the dynamics\" of how the model fits to the data by training proceeds. "
   ]
  },
  {
   "cell_type": "markdown",
   "metadata": {},
   "source": [
    "### Save format\n",
    "Chainer supports two format, *NPZ* and *HDF5*.\n",
    "\n",
    "- NPZ  : Supported in numpy. So it does not require additional environment setup.\n",
    "- HDF5 : Supported in h5py library. It is usually **faster** than npz format, but you need to install the library.\n",
    "\n",
    "In my environment, it took\n",
    "\n",
    "- NPZ :  load 2.5ms, save 22ms\n",
    "- HDF5: load 2.0ms, save 15ms\n",
    "\n",
    "In one words, I recommend to use HDF5 format version, `serializers.save_hdf5()` and `serializers.load_hdf5()`.\n",
    "Just run `pip install h5py` if you haven't install the library."
   ]
  },
  {
   "cell_type": "markdown",
   "metadata": {},
   "source": [
    "## Predict\n",
    "\n",
    "Once the model is trained, you can apply this model to new data.\n",
    "\n",
    "Compared to \"training\", this is often called \"predict\" or \"inference\"."
   ]
  },
  {
   "cell_type": "code",
   "execution_count": 26,
   "metadata": {},
   "outputs": [
    {
     "name": "stdout",
     "output_type": "stream",
     "text": [
      "Loading model\n"
     ]
    },
    {
     "data": {
      "image/png": "[encoded data removed]",
      "text/plain": [
       "<matplotlib.figure.Figure at 0x24c181b2198>"
      ]
     },
     "metadata": {},
     "output_type": "display_data"
    }
   ],
   "source": [
    "# Setup a model\n",
    "model = MyChain()\n",
    "\n",
    "model_save_path = 'mlp.model'\n",
    "print('Loading model')\n",
    "# --- use NPZ format ---\n",
    "serializers.load_npz(model_save_path, model)\n",
    "# --- use HDF5 format (need h5py library) ---\n",
    "#%timeit serializers.load_hdf5(model_save_path, model)\n",
    "\n",
    "\n",
    "# calculate new data from model (predict value)\n",
    "x_test_data = np.array(np.random.rand(sample_num) * (xmax - xmin) + xmin)  # create 20 \n",
    "x_test = Variable(x_test_data.reshape(-1, 1).astype(np.float32))\n",
    "y_test_data = model(x_test).data  # this is predicted value\n",
    "\n",
    "# calculate target function (true value)\n",
    "x_detail_data = np.array(np.arange(xmin, xmax, 0.1))\n",
    "y_detail_data = target_func_elementwise(x_detail_data)\n",
    "\n",
    "plt.clf()\n",
    "# plot model predict data\n",
    "plt.scatter(x_test_data, y_test_data, color='k', label='Model predict value')\n",
    "# plot target function\n",
    "plt.plot(x_detail_data, y_detail_data, label='True value')\n",
    "plt.legend(loc='lower right')\n",
    "plt.show()"
   ]
  },
  {
   "cell_type": "markdown",
   "metadata": {},
   "source": [
    "Compare with the black dot and blue line.\n",
    "\n",
    "It is preferable if the black dot is as close as possible to the blue line.\n",
    "If you train the model with enough iteration, black dot should be shown almost on the blue line in this easy example."
   ]
  },
  {
   "cell_type": "markdown",
   "metadata": {},
   "source": [
    "## Summary\n",
    "\n",
    "You learned Optimizers and Serializers module, and how these are used in training code.\n",
    "Optimizers update the model (Chain instance) to fit to the data.\n",
    "Serializers provides save/load functionality to chainer module, especially model and optimizer.\n",
    "\n",
    "Now you understand the very basic modules of Chainer. So let's proceed to MNIST example, this is considered as \"hello world\" program in machine learning community."
   ]
  },
  {
   "cell_type": "code",
   "execution_count": 51,
   "metadata": {},
   "outputs": [],
   "source": [
    ""
   ]
  },
  {
   "cell_type": "code",
   "execution_count": null,
   "metadata": {},
   "outputs": [],
   "source": [
    ""
   ]
  }
 ],
 "metadata": {
  "kernelspec": {
   "display_name": "Python 2",
   "language": "python",
   "name": "python2"
  },
  "language_info": {
   "codemirror_mode": {
    "name": "ipython",
    "version": 2.0
   },
   "file_extension": ".py",
   "mimetype": "text/x-python",
   "name": "python",
   "nbconvert_exporter": "python",
   "pygments_lexer": "ipython2",
   "version": "2.7.6"
  }
 },
 "nbformat": 4,
 "nbformat_minor": 0
}