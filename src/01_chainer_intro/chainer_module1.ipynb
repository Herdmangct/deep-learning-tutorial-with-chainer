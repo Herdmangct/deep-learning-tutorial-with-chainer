{
 "cells": [
  {
   "cell_type": "markdown",
   "metadata": {
    "collapsed": false
   },
   "source": [
    "# Chainer basic module introduction\n",
    "\n",
    "Advanced memo is written as \"Note\". You can skip reading this for the first time reading."
   ]
  },
  {
   "cell_type": "markdown",
   "metadata": {},
   "source": [
    "In this tutorial, basic chainer modules are introduced and explained\n",
    "* Variable\n",
    "* Link\n",
    "* Function\n",
    "* Chain\n",
    "\n",
    "For other chainer modules are explained in later tutorial."
   ]
  },
  {
   "cell_type": "markdown",
   "metadata": {},
   "source": [
    "## Initial setup\n",
    "\n",
    "Below is typecal `import` statement of chainer modules.\n",
    "\n",
    "Ref:\n",
    " - [http://docs.chainer.org/en/stable/tutorial/basic.html](http://docs.chainer.org/en/stable/tutorial/basic.html)"
   ]
  },
  {
   "cell_type": "code",
   "execution_count": 2,
   "metadata": {},
   "outputs": [],
   "source": [
    "# Initial setup following \n",
    "import numpy as np\n",
    "import chainer\n",
    "from chainer import cuda, Function, gradient_check, report, training, utils, Variable\n",
    "from chainer import datasets, iterators, optimizers, serializers\n",
    "from chainer import Link, Chain, ChainList\n",
    "import chainer.functions as F\n",
    "import chainer.links as L\n",
    "from chainer.training import extensions"
   ]
  },
  {
   "cell_type": "markdown",
   "metadata": {},
   "source": [
    "## Check chainer version"
   ]
  },
  {
   "cell_type": "code",
   "execution_count": 2,
   "metadata": {},
   "outputs": [
    {
     "name": "stdout",
     "output_type": "stream",
     "text": [
      "2.0.0\n"
     ]
    }
   ],
   "source": [
    "print(chainer.__version__)"
   ]
  },
  {
   "cell_type": "markdown",
   "metadata": {},
   "source": [
    "## Variable\n",
    "Chainer variable can be created by `Variable` constructor, which creates `chainer.Variable` class object.\n",
    "\n",
    "When I write `Variable`, it means chainer's class for `Variable`. Please do not confuse with the usual noun of \"variable\".\n",
    "\n",
    "\n",
    "Note: the reason why chainer need to use own `Variable`, `Function` class for the calculation instead of just using `numpy` is because back propagation is necessary during deep learning training. \n",
    "`Variable` holds its \"calculation history\" information and `Function` has `backward` method which is differencial function in order to process back propagation. See below for more details\n",
    "\n",
    "* Chainer Tutorial <a href=\"http://docs.chainer.org/en/stable/tutorial/basic.html#forward-backward-computation\">Forward/Backward Computation</a>"
   ]
  },
  {
   "cell_type": "code",
   "execution_count": 3,
   "metadata": {},
   "outputs": [
    {
     "name": "stdout",
     "output_type": "stream",
     "text": [
      "a:  [ 1.  2.  3.] , type:  <class 'numpy.ndarray'>\nx:  variable([ 1.  2.  3.]) , type:  <class 'chainer.variable.Variable'>\n"
     ]
    }
   ],
   "source": [
    "from chainer import Variable\n",
    "# creating numpy array\n",
    "# this is `numpy.ndarray` class\n",
    "a = np.asarray([1., 2., 3.], dtype=np.float32)\n",
    "\n",
    "# chainer variable is created from `numpy.ndarray` or `cuda.ndarray` (explained later) \n",
    "x = Variable(a)\n",
    "\n",
    "print('a: ', a, ', type: ', type(a))\n",
    "print('x: ', x, ', type: ', type(x))"
   ]
  },
  {
   "cell_type": "markdown",
   "metadata": {},
   "source": [
    "In the above code, numpy data type is explicitly set as `dtype=np.float32`. \n",
    "If we don't set data type, `np.float64` may be used as default type in 64-bit environment. However such a precision is usually \"too much\" and not necessary in machine learning. It is better to use lower precision for computational speed & memory usage.\n",
    "\n",
    "### attribute\n",
    "Chainer `Variable` has following attributes\n",
    "\n",
    "- data\n",
    "- dtype\n",
    "- shape\n",
    "- ndim\n",
    "- size\n",
    "- grad\n",
    "\n",
    "\n",
    "They are very similar to `numpy.ndarray`. You can access following attributes."
   ]
  },
  {
   "cell_type": "code",
   "execution_count": 4,
   "metadata": {
    "collapsed": false
   },
   "outputs": [
    {
     "name": "stdout",
     "output_type": "stream",
     "text": [
      "attributes numpy.ndarray a chcainer.Variable x\ndtype float32 float32\nshape (3,) (3,)\nndim 1 1\nsize 3 3\n"
     ]
    }
   ],
   "source": [
    "# These attributes return the same\n",
    "\n",
    "print('attributes', 'numpy.ndarray a', 'chcainer.Variable x')\n",
    "print('dtype', a.dtype, x.dtype)\n",
    "print('shape', a.shape, x.shape)\n",
    "print('ndim', a.ndim, x.ndim)\n",
    "print('size', a.size, x.size)"
   ]
  },
  {
   "cell_type": "code",
   "execution_count": 5,
   "metadata": {},
   "outputs": [
    {
     "data": {
      "text/plain": [
       "\"<variable at 0x2058c475748>\\n- device: CPU\\n- backend: <class 'numpy.ndarray'>\\n- shape: (3,)\\n- dtype: float32\\n- statistics: mean=2.00000000, std=0.81649661\\n- grad: None\""
      ]
     },
     "execution_count": 5,
     "metadata": {},
     "output_type": "execute_result"
    }
   ],
   "source": [
    "# Variable class has debug_print function, to show this Variable's properties.\n",
    "x.debug_print()"
   ]
  },
  {
   "cell_type": "markdown",
   "metadata": {},
   "source": [
    "One exception is `data` attribute, chainer `Variable`'s data refers `numpy.ndarray`"
   ]
  },
  {
   "cell_type": "code",
   "execution_count": 6,
   "metadata": {
    "collapsed": false
   },
   "outputs": [
    {
     "name": "stdout",
     "output_type": "stream",
     "text": [
      "x.data is a :  True\nx.data:  [ 1.  2.  3.]\n"
     ]
    }
   ],
   "source": [
    "# x = Variable(a)\n",
    "\n",
    "# `a` can be accessed via `data` attribute from chainer `Variable`\n",
    "print('x.data is a : ', x.data is a)  # True -> means the reference of x.data and a are same. \n",
    "print('x.data: ', x.data)"
   ]
  },
  {
   "cell_type": "markdown",
   "metadata": {},
   "source": [
    ""
   ]
  },
  {
   "cell_type": "markdown",
   "metadata": {},
   "source": [
    "## Function\n",
    "\n",
    "We want to process some calculation to `Variable`.\n",
    "`Variable` can be calculated using\n",
    "\n",
    "- arithmetric operation (Ex. `+`, `-`, `*`, `/`)\n",
    "- method which is subclass of `chainer.Function` (Ex. `F.sigmoid`, `F.relu`)"
   ]
  },
  {
   "cell_type": "code",
   "execution_count": 7,
   "metadata": {},
   "outputs": [
    {
     "name": "stdout",
     "output_type": "stream",
     "text": [
      "z:  [  5.  12.  21.] , type:  <class 'chainer.variable.Variable'>\n"
     ]
    }
   ],
   "source": [
    "# Arithmetric operation example\n",
    "x = Variable(np.array([1, 2, 3], dtype=np.float32))\n",
    "y = Variable(np.array([5, 6, 7], dtype=np.float32))\n",
    "\n",
    "# usual arithmetric operator (this case `*`) can be used for calculation of `Variable`\n",
    "z = x * y\n",
    "print('z: ', z.data, ', type: ', type(z))"
   ]
  },
  {
   "cell_type": "markdown",
   "metadata": {},
   "source": [
    "Only basic calculation can be done with arithmetric operations. \n",
    "\n",
    "Chainer provides a set of widely used functions via `chainer.functions`, for example sigmoid function or ReLU (Rectified Linear Unit) function which is popularly used as activation function in deep learning."
   ]
  },
  {
   "cell_type": "code",
   "execution_count": 8,
   "metadata": {},
   "outputs": [
    {
     "name": "stdout",
     "output_type": "stream",
     "text": [
      "x:  [-1.5 -0.5  0.   1.   2. ] , type:  <class 'chainer.variable.Variable'>\nsigmoid_x:  [ 0.18242553  0.37754068  0.5         0.7310586   0.88079709] , type:  <class 'chainer.variable.Variable'>\nrelu_x:  [ 0.  0.  0.  1.  2.] , type:  <class 'chainer.variable.Variable'>\n"
     ]
    }
   ],
   "source": [
    "# Functoin operation example\n",
    "import chainer.functions as F\n",
    "\n",
    "x = Variable(np.array([-1.5, -0.5, 0, 1, 2], dtype=np.float32))\n",
    "sigmoid_x = F.sigmoid(x)  # sigmoid function. F.sigmoid is subclass of `Function`\n",
    "relu_x = F.relu(x)        # ReLU function. F.relu is subclass of `Function`\n",
    "\n",
    "print('x: ', x.data, ', type: ', type(x))\n",
    "print('sigmoid_x: ', sigmoid_x.data, ', type: ', type(sigmoid_x))\n",
    "print('relu_x: ', relu_x.data, ', type: ', type(relu_x))"
   ]
  },
  {
   "cell_type": "markdown",
   "metadata": {},
   "source": [
    "Note: You can find capital letter of `Function` like `F.Sigmoid` or `F.ReLU`. \n",
    "Basically, these capital letter is actual class implmentation of `Function` while small letter method is *getter* method of these capital lettered instance.\n",
    "\n",
    "It is recommended to use **small letter** method when you use `F.xxx`."
   ]
  },
  {
   "cell_type": "markdown",
   "metadata": {},
   "source": [
    "Just a side note, sigmoid and ReLU function are non-linear function whose form is like this."
   ]
  },
  {
   "cell_type": "code",
   "execution_count": 9,
   "metadata": {},
   "outputs": [
    {
     "data": {
      "text/plain": [
       "<matplotlib.figure.Figure at 0x2058c486780>"
      ]
     },
     "execution_count": 0,
     "metadata": {},
     "output_type": "execute_result"
    },
    {
     "data": {
      "image/png": "[encoded data removed]",
      "text/plain": [
       "<matplotlib.figure.Figure at 0x2058c489b38>"
      ]
     },
     "metadata": {},
     "output_type": "display_data"
    },
    {
     "data": {
      "text/plain": [
       "<matplotlib.figure.Figure at 0x2058c4e9be0>"
      ]
     },
     "execution_count": 0,
     "metadata": {},
     "output_type": "execute_result"
    },
    {
     "data": {
      "image/png": "[encoded data removed]",
      "text/plain": [
       "<matplotlib.figure.Figure at 0x2058c4e4860>"
      ]
     },
     "metadata": {},
     "output_type": "display_data"
    }
   ],
   "source": [
    "%matplotlib inline\n",
    "import matplotlib.pyplot as plt\n",
    "\n",
    "\n",
    "def plot_chainer_function(f, xmin=-5, xmax=5, title=None):\n",
    "    \"\"\"draw graph of chainer `Function` `f`\n",
    "\n",
    "    :param f: function to be plotted\n",
    "    :type f: chainer.Function\n",
    "    :param xmin: int or float, minimum value of x axis\n",
    "    :param xmax: int or float, maximum value of x axis\n",
    "    :return:\n",
    "    \"\"\"\n",
    "    a = np.arange(xmin, xmax, step=0.1)\n",
    "    x = Variable(a)\n",
    "    y = f(x)\n",
    "    plt.clf()\n",
    "    plt.figure()\n",
    "    # x and y are `Variable`, their value can be accessed via `data` attribute\n",
    "    plt.plot(x.data, y.data, 'r')\n",
    "    if title is not None:\n",
    "        plt.title(title)\n",
    "    plt.show()\n",
    "\n",
    "plot_chainer_function(F.sigmoid, title='Sigmoid')\n",
    "plot_chainer_function(F.relu, title='ReLU')"
   ]
  },
  {
   "cell_type": "markdown",
   "metadata": {},
   "source": [
    "## Link\n",
    "\n",
    "`Link` is similar to `Function`, but **it owns internal parameter**. This internal parameter is tuned during training of machine learning. \n",
    "\n",
    "`Link` is similar notion of `Layer` in caffe. Chainer provides layers which is introduced in popular papers via `chainer.links`. For example, Linear layer, Convolutional layer. \n",
    "\n",
    "Let's see the example,\n",
    "(below explanation is almost same with [official tutorial](http://docs.chainer.org/en/stable/tutorial/basic.html#links))"
   ]
  },
  {
   "cell_type": "code",
   "execution_count": 10,
   "metadata": {},
   "outputs": [
    {
     "name": "stdout",
     "output_type": "stream",
     "text": [
      "W:  [[-0.09607964  0.4963097   0.0818873 ]\n [-0.7667641  -0.20673235 -0.59234428]] , shape:  (2, 3)\nb:  [ 0.  0.] , shape:  (2,)\n"
     ]
    }
   ],
   "source": [
    "import chainer.links as L\n",
    "\n",
    "in_size = 3  # input vector's dimension\n",
    "out_size = 2  # output vector's dimension\n",
    "\n",
    "linear_layer = L.Linear(in_size, out_size)  # L.linear is subclass of `Link`\n",
    "\n",
    "\"\"\"linear_layer has 2 internal parameters `W` and `b`, which are `Variable`\"\"\"\n",
    "print('W: ', linear_layer.W.data, ', shape: ', linear_layer.W.shape)\n",
    "print('b: ', linear_layer.b.data, ', shape: ', linear_layer.b.shape)"
   ]
  },
  {
   "cell_type": "markdown",
   "metadata": {},
   "source": [
    "Note that internal parameter `W` is initialized with a random value. So every time you execute above code, the result will be different (try and check it!)."
   ]
  },
  {
   "cell_type": "markdown",
   "metadata": {},
   "source": [
    "This Linear layer will take 3-dimensional vectors [x0, x1, x2...] (`Variable` class) as input and outputs 2-dimensional vectors [y0, y1, y2...] (`Variable` class).\n",
    "\n",
    "In equation form, \n",
    "$$ y_i = W * x_i + b $$\n",
    "where `i = 0, 1, 2...` denotes each \"minibatch\" of input/output. \n",
    "\n",
    "[Note] See source code of `Linear` class, you can easily understand it is just calling `F.linear` by \n",
    "<pre>\n",
    "    return linear.linear(x, self.W, self.b)\n",
    "</pre>"
   ]
  },
  {
   "cell_type": "code",
   "execution_count": 11,
   "metadata": {
    "collapsed": false
   },
   "outputs": [
    {
     "name": "stdout",
     "output_type": "stream",
     "text": [
      "W:  [[-0.09607964  0.4963097   0.0818873 ]\n [-0.7667641  -0.20673235 -0.59234428]]\nb:  [ 0.  0.]\nx:  [[ 1.  0.  0.]\n [ 1.  1.  1.]]\ny:  [[-0.09607964 -0.7667641 ]\n [ 0.48211735 -1.56584084]]\n"
     ]
    }
   ],
   "source": [
    "x0 = np.array([1, 0, 0], dtype=np.float32)\n",
    "x1 = np.array([1, 1, 1], dtype=np.float32)\n",
    "\n",
    "x = Variable(np.array([x0, x1], dtype=np.float32))\n",
    "y = linear_layer(x)\n",
    "print('W: ', linear_layer.W.data)\n",
    "print('b: ', linear_layer.b.data)\n",
    "print('x: ', x.data)  # input is x0 & x1\n",
    "print('y: ', y.data)  # output is y0 & y1"
   ]
  },
  {
   "cell_type": "markdown",
   "metadata": {},
   "source": [
    "Let me emphasize the difference between `Link` and `Function`. `Function``s input-output relationship is fixed. On the other hand, `Link` module has internal parameter and the function behavior can be changed by modifying (tuning) this internal parameter."
   ]
  },
  {
   "cell_type": "code",
   "execution_count": 12,
   "metadata": {},
   "outputs": [
    {
     "name": "stdout",
     "output_type": "stream",
     "text": [
      "W:  [[ 1.  2.  3.]\n [ 0.  0.  0.]]\nb:  [ 3.  5.]\nx:  [[ 1.  0.  0.]\n [ 1.  1.  1.]]\ny:  [[ 4.  5.]\n [ 9.  5.]]\n"
     ]
    }
   ],
   "source": [
    "# Force update (set) internal parameters\n",
    "linear_layer.W.data = np.array([[1, 2, 3], [0, 0, 0]], dtype=np.float32)\n",
    "linear_layer.b.data = np.array([3, 5], dtype=np.float32)\n",
    "\n",
    "# below is same code with above cell, but output data y will be different\n",
    "x0 = np.array([1, 0, 0], dtype=np.float32)\n",
    "x1 = np.array([1, 1, 1], dtype=np.float32)\n",
    "\n",
    "x = Variable(np.array([x0, x1], dtype=np.float32))\n",
    "y = linear_layer(x)\n",
    "print('W: ', linear_layer.W.data)\n",
    "print('b: ', linear_layer.b.data)\n",
    "print('x: ', x.data)  # input is x0 & x1\n",
    "print('y: ', y.data)  # output is y0 & y1"
   ]
  },
  {
   "cell_type": "markdown",
   "metadata": {},
   "source": [
    ""
   ]
  },
  {
   "cell_type": "markdown",
   "metadata": {},
   "source": [
    "The value of output `y` is different compared to above code, even though we input same value of `x`.\n",
    "\n",
    "These internal parameters are \"tuned\" during training in machine learning. Usually, we do not need to set these internal parameter `W` or `b` manually, chainer will automatically update these internal parameters during training through back propagation."
   ]
  },
  {
   "cell_type": "markdown",
   "metadata": {},
   "source": [
    "## Chain\n",
    "\n",
    "`Chain` is to construct neural networks. It usually consists of several combination of `Link` and `Function` modules.\n",
    "\n",
    "Let's see example,"
   ]
  },
  {
   "cell_type": "code",
   "execution_count": 15,
   "metadata": {},
   "outputs": [
    {
     "name": "stdout",
     "output_type": "stream",
     "text": [
      "x:  [[ 1.  2.]\n [ 3.  4.]]\ny:  [[-2.61815786]\n [-5.45522881]]\n"
     ]
    }
   ],
   "source": [
    "from chainer import Chain, Variable\n",
    "\n",
    "\n",
    "# Defining your own neural networks using `Chain` class\n",
    "class MyChain(Chain):\n",
    "    def __init__(self):\n",
    "        super(MyChain, self).__init__()\n",
    "        with self.init_scope():\n",
    "            self.l1 = L.Linear(2, 2)\n",
    "            self.l2 = L.Linear(2, 1)\n",
    "        \n",
    "    def __call__(self, x):\n",
    "        h = self.l1(x)\n",
    "        return self.l2(h)\n",
    "    \n",
    "\n",
    "x = Variable(np.array([[1, 2], [3, 4]], dtype=np.float32))\n",
    "\n",
    "model = MyChain()\n",
    "y = model(x)\n",
    "\n",
    "print('x: ', x.data)  # input is x0 & x1\n",
    "print('y: ', y.data)  # output is y0 & y1"
   ]
  },
  {
   "cell_type": "code",
   "execution_count": 13,
   "metadata": {},
   "outputs": [
    {
     "name": "stdout",
     "output_type": "stream",
     "text": [
      "x:  [[ 1.  2.]\n [ 3.  4.]]\ny:  [[ 0.62971944]\n [ 0.63566327]]\n"
     ]
    }
   ],
   "source": [
    ""
   ]
  },
  {
   "cell_type": "markdown",
   "metadata": {},
   "source": [
    "Based on the [official doc](http://docs.chainer.org/en/stable/tutorial/basic.html#write-a-model-as-a-chain), `Chain` class provides following functionality\n",
    "* parameter management\n",
    "* CPU/GPU migration support\n",
    "* save/load features\n",
    "\n",
    "to provide convinient reusability of your neural network code."
   ]
  },
  {
   "cell_type": "markdown",
   "metadata": {},
   "source": [
    "Memo: \n",
    "Above `init_scope()` method is introduced in chainer v2,\n",
    "and `Link` class instances are initialized inside this scope.\n",
    " \n",
    "In chainer v1, `Chain` was initialized as follows.\n",
    "Concretely, `Link` class instances are initialized in the argument of super method.\n",
    "For backward compatibility, you may use this type of initialization in chainer v2 as well."
   ]
  },
  {
   "cell_type": "code",
   "execution_count": 16,
   "metadata": {},
   "outputs": [
    {
     "name": "stdout",
     "output_type": "stream",
     "text": [
      "x:  [[ 1.  2.]\n [ 3.  4.]]\ny:  [[-0.10704891]\n [-0.61191183]]\n"
     ]
    }
   ],
   "source": [
    "from chainer import Chain, Variable\n",
    "\n",
    "\n",
    "# Defining your own neural networks using `Chain` class\n",
    "class MyChain(Chain):\n",
    "    def __init__(self):\n",
    "        super(MyChain, self).__init__(\n",
    "            l1=L.Linear(2, 2),\n",
    "            l2=L.Linear(2, 1)\n",
    "        )\n",
    "        \n",
    "    def __call__(self, x):\n",
    "        h = self.l1(x)\n",
    "        return self.l2(h)\n",
    "    \n",
    "\n",
    "x = Variable(np.array([[1, 2], [3, 4]], dtype=np.float32))\n",
    "\n",
    "model = MyChain()\n",
    "y = model(x)\n",
    "\n",
    "print('x: ', x.data)  # input is x0 & x1\n",
    "print('y: ', y.data)  # output is y0 & y1"
   ]
  },
  {
   "cell_type": "code",
   "execution_count": 27,
   "metadata": {},
   "outputs": [],
   "source": [
    ""
   ]
  },
  {
   "cell_type": "code",
   "execution_count": 27,
   "metadata": {},
   "outputs": [],
   "source": [
    ""
   ]
  },
  {
   "cell_type": "code",
   "execution_count": null,
   "metadata": {},
   "outputs": [],
   "source": [
    ""
   ]
  }
 ],
 "metadata": {
  "kernelspec": {
   "display_name": "Python 2",
   "language": "python",
   "name": "python2"
  },
  "language_info": {
   "codemirror_mode": {
    "name": "ipython",
    "version": 2.0
   },
   "file_extension": ".py",
   "mimetype": "text/x-python",
   "name": "python",
   "nbconvert_exporter": "python",
   "pygments_lexer": "ipython2",
   "version": "2.7.6"
  }
 },
 "nbformat": 4,
 "nbformat_minor": 0
}