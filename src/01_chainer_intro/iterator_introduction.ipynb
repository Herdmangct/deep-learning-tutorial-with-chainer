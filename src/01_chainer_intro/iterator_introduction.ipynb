{
 "cells": [
  {
   "cell_type": "markdown",
   "metadata": {
    "collapsed": true
   },
   "source": [
    "# Iterator module introduction\n",
    "\n",
    "\n",
    "- SerialIterator\n",
    "- MultiProcessIterator"
   ]
  },
  {
   "cell_type": "code",
   "execution_count": 1,
   "metadata": {},
   "outputs": [],
   "source": [
    "# Initial setup following http://docs.chainer.org/en/stable/tutorial/basic.html\n",
    "import numpy as np\n",
    "import chainer\n",
    "from chainer import cuda, Function, gradient_check, report, training, utils, Variable\n",
    "from chainer import datasets, iterators, optimizers, serializers\n",
    "from chainer import Link, Chain, ChainList\n",
    "import chainer.functions as F\n",
    "import chainer.links as L\n",
    "from chainer.training import extensions\n",
    "import chainer.dataset\n",
    "import chainer.datasets\n",
    "import chainer.iterators"
   ]
  },
  {
   "cell_type": "markdown",
   "metadata": {},
   "source": [
    "## SerialIterator\n",
    "\n",
    "This iterator is basic function."
   ]
  },
  {
   "cell_type": "markdown",
   "metadata": {},
   "source": [
    "## Implment custom Iterator\n",
    "\n",
    "You can implement custom Iterator class to achieve this functionality. The parent class Iterator is implemented as following, [Iterator code](https://docs.chainer.org/en/stable/_modules/chainer/dataset/iterator.html).\n",
    "So what we need to implement is\n",
    "\n",
    "- __init__(self, ...) : \n",
    "Initialization code.\n",
    "- __next__(self) : \n",
    "This is the core part of iterator. For each iteration, this function is automatically called to get next minibatch.\n",
    "- epoch_detail(self) :\n",
    "This property is used by trainer module to show the progress of training.\n",
    "- serialize(self) :\n",
    "Implement if you want to support resume functionality of trainer."
   ]
  },
  {
   "cell_type": "markdown",
   "metadata": {},
   "source": [
    "## MultiprocessIterator\n",
    "\n",
    "The data is prefetched before feeding to the model, using background process in parallel."
   ]
  },
  {
   "cell_type": "code",
   "execution_count": null,
   "metadata": {},
   "outputs": [],
   "source": [
    ""
   ]
  },
  {
   "cell_type": "markdown",
   "metadata": {},
   "source": [
    "## Implment custom Iterator\n",
    "\n",
    "You can implement custom Iterator class to achieve this functionality. The parent class Iterator is implemented as following, [Iterator code](https://docs.chainer.org/en/stable/_modules/chainer/dataset/iterator.html).\n",
    "So what we need to implement is\n",
    "\n",
    "- __init__(self, ...) : \n",
    "Initialization code.\n",
    "- __next__(self) : \n",
    "This is the core part of iterator. For each iteration, this function is automatically called to get next minibatch.\n",
    "- epoch_detail(self) :\n",
    "This property is used by trainer module to show the progress of training.\n",
    "- serialize(self) :\n",
    "Implement if you want to support resume functionality of trainer."
   ]
  },
  {
   "cell_type": "code",
   "execution_count": null,
   "metadata": {},
   "outputs": [],
   "source": [
    ""
   ]
  }
 ],
 "metadata": {
  "kernelspec": {
   "display_name": "Python 2",
   "language": "python",
   "name": "python2"
  },
  "language_info": {
   "codemirror_mode": {
    "name": "ipython",
    "version": 2.0
   },
   "file_extension": ".py",
   "mimetype": "text/x-python",
   "name": "python",
   "nbconvert_exporter": "python",
   "pygments_lexer": "ipython2",
   "version": "2.7.6"
  }
 },
 "nbformat": 4,
 "nbformat_minor": 0
}