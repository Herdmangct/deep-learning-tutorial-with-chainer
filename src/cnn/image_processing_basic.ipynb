{
 "cells": [
  {
   "cell_type": "markdown",
   "metadata": {
    "collapsed": true
   },
   "source": [
    "# Basic Image Processing tutorial\n",
    "\n",
    "Basic image data manipulation is introduced, using OpenCV library.\n",
    "\n",
    "[OpenCV](http://opencv.org/) is image processing library which supports \n",
    " - loading image in numpy.ndarray format\n",
    " - converting image color format (RGB, YUV, Gray scale etc)\n",
    " - resize\n",
    " and other useful image processing functionality.\n",
    "\n",
    "To install opencv, execute\n",
    "\n",
    "` $conda install -c https://conda.binstar.org/menpo -y opencv3 `"
   ]
  },
  {
   "cell_type": "code",
   "execution_count": 6,
   "metadata": {},
   "outputs": [],
   "source": [
    "import os\n",
    "\n",
    "import matplotlib.pyplot as plt\n",
    "import cv2\n",
    "%matplotlib inline\n",
    "\n",
    "\n",
    "def readRGBImage(imagepath):\n",
    "    image = cv2.imread(imagepath)  # Height, Width, Channel\n",
    "    (major, minor, _) = cv2.__version__.split(\".\")\n",
    "    if major == '3':\n",
    "        # version 3 is used, need to convert\n",
    "        image = cv2.cvtColor(image, cv2.COLOR_BGR2RGB)\n",
    "    else:\n",
    "        # Version 2 is used, not necessary to convert\n",
    "        pass\n",
    "    return image"
   ]
  },
  {
   "cell_type": "markdown",
   "metadata": {},
   "source": [
    "## Loading and save image\n",
    "\n",
    "- `cv2.imread` for loading image.\n",
    "- `plt.imshow` for plotting.\n",
    "- `plt.savefig` for save image.\n",
    "\n",
    "OpenCV image format is usually 3 dimension (or 2 dimension if the image is gray scale).\n",
    "\n",
    "1st dimension is for height,\n",
    "2nd dimension is for width,\n",
    "3rd dimension is for channel (RGB, YUV etc).\n",
    "\n",
    "To convert color format `cv2.cvtColor` can be used.\n",
    "\n",
    "Note that openCV version 3 reads the image color in the order B, G, R.\n",
    "However, matplotlib deals with the image color in the corder R, G, B.\n",
    "So you need to convert color order, refer `readRGBImage` function."
   ]
  },
  {
   "cell_type": "code",
   "execution_count": 14,
   "metadata": {},
   "outputs": [
    {
     "name": "stdout",
     "output_type": "stream",
     "text": [
      "image.shape (Height, Width, Channel) =  (1426, 1920, 3)\n"
     ]
    }
   ],
   "source": [
    "# Read image from file, save image with matplotlib using `imshow` function\n",
    "basedir = './src/cnn/images'\n",
    "imagepath = os.path.join(basedir, 'sample.jpeg')\n",
    "\n",
    "#image = cv2.imread(imagepath, cv2.IMREAD_GRAYSCALE)\n",
    "image = readRGBImage(imagepath)\n",
    "\n",
    "# Width and Height shows pixel size of this image \n",
    "# Channel=3 indicates the RGB channel \n",
    "print('image.shape (Height, Width, Channel) = ', image.shape)\n",
    "\n",
    "# Save image with openCV\n",
    "# This may be blue image because the color format RGB is opposite.\n",
    "cv2.imwrite('./src/cnn/images/out.jpg', image)  \n",
    "# bgr_image = cv2.cvtColor(image, cv2.COLOR_RGB2BGR)\n",
    "# cv2.imwrite('./src/cnn/images/out.jpg', bgr_image)  \n",
    "\n",
    "# Plotting\n",
    "plt.imshow(image)\n",
    "plt.savefig('./src/cnn/images/out_plt.png')"
   ]
  },
  {
   "cell_type": "markdown",
   "metadata": {},
   "source": [
    "## Resize\n",
    "\n",
    "- `cv2.imread` for resize.\n",
    "\n",
    "Note that size should be specified in the order width, height."
   ]
  },
  {
   "cell_type": "code",
   "execution_count": 15,
   "metadata": {},
   "outputs": [
    {
     "name": "stdout",
     "output_type": "stream",
     "text": [
      "image.shape (Height, Width, Channel) =  (1426, 1920, 3)\nhalf_image.shape (Height, Width, Channel) =  (713, 960, 3)\n"
     ]
    }
   ],
   "source": [
    "print('image.shape (Height, Width, Channel) = ', image.shape)\n",
    "\n",
    "# Resize image to half size\n",
    "height, width = image.shape[:2]\n",
    "half_image = cv2.resize(image, (width//2, height//2))  # size must be int\n",
    "print('half_image.shape (Height, Width, Channel) = ', half_image.shape)\n",
    "plt.imshow(half_image)\n",
    "plt.savefig('./src/cnn/images/out_half.jpg')"
   ]
  },
  {
   "cell_type": "markdown",
   "metadata": {},
   "source": [
    "## Crop\n",
    "\n",
    "- numpy slicing can be used for cropping image"
   ]
  },
  {
   "cell_type": "code",
   "execution_count": 18,
   "metadata": {},
   "outputs": [
    {
     "name": "stdout",
     "output_type": "stream",
     "text": [
      "cropped_image.shape (Height, Width, Channel) =  (713, 713, 3)\n"
     ]
    }
   ],
   "source": [
    "# Crop center of half_image \n",
    "\n",
    "height, width = half_image.shape[:2]\n",
    "\n",
    "crop_length = min(height, width)\n",
    "\n",
    "height_start = (height - crop_length) // 2\n",
    "width_start = (width - crop_length) // 2\n",
    "\n",
    "cropped_image = half_image[\n",
    "                height_start:height_start+crop_length, \n",
    "                width_start:width_start+crop_length,\n",
    "                :] \n",
    "print('cropped_image.shape (Height, Width, Channel) = ', cropped_image.shape)\n",
    "plt.imshow(cropped_image)\n",
    "plt.savefig('./src/cnn/images/out_cropped.jpg')"
   ]
  },
  {
   "cell_type": "markdown",
   "metadata": {},
   "source": [
    "## Image processing with channels\n",
    "\n",
    "RGB channel manipulation.\n",
    "\n",
    "Understanding the meaning of \"channel\" is important in deep learning. \n",
    "Below code provides some insight that what each channel represents."
   ]
  },
  {
   "cell_type": "code",
   "execution_count": 37,
   "metadata": {},
   "outputs": [],
   "source": [
    "%matplotlib inline\n",
    "# Show RGB channel separately in gray scale\n",
    "\n",
    "fig, axes = plt.subplots(1, 3)\n",
    "\n",
    "# image[:, :, 0] is R channel.\n",
    "axes[0].set_title('R channel')\n",
    "axes[0].imshow(image[:, :, 0], cmap='gray')\n",
    "# image[:, :, 1] is G channel.\n",
    "axes[1].set_title('G channel')\n",
    "axes[1].imshow(image[:, :, 1], cmap='gray')\n",
    "# image[:, :, 2] is B channel.\n",
    "axes[2].set_title('B channel')\n",
    "axes[2].imshow(image[:, :, 2], cmap='gray')\n",
    "plt.savefig(os.path.join(basedir, 'RGB_gray.jpg'))"
   ]
  },
  {
   "cell_type": "code",
   "execution_count": 36,
   "metadata": {},
   "outputs": [],
   "source": [
    "# Show RGB channel separately in color\n",
    "fig, axes = plt.subplots(1, 3)\n",
    "\n",
    "# image[:, :, 0] is R channel, replace the rest by 0.\n",
    "imageR = image.copy()\n",
    "imageR[:, :, 1:3] = 0\n",
    "axes[0].set_title('R channel')\n",
    "axes[0].imshow(imageR)\n",
    "\n",
    "# image[:, :, 1] is G channel, replace the rest by 0.\n",
    "imageG = image.copy()\n",
    "imageG[:, :, [0, 2]] = 0\n",
    "axes[1].set_title('G channel')\n",
    "axes[1].imshow(imageG)\n",
    "\n",
    "# image[:, :, 2] is B channel, replace the rest by 0.\n",
    "imageB = image.copy()\n",
    "imageB[:, :, 0:2] = 0\n",
    "axes[2].set_title('B channel')\n",
    "axes[2].imshow(imageB)\n",
    "plt.savefig(os.path.join(basedir, 'RGB_color.jpg'))"
   ]
  },
  {
   "cell_type": "code",
   "execution_count": null,
   "metadata": {},
   "outputs": [],
   "source": [
    ""
   ]
  }
 ],
 "metadata": {
  "kernelspec": {
   "display_name": "Python 2",
   "language": "python",
   "name": "python2"
  },
  "language_info": {
   "codemirror_mode": {
    "name": "ipython",
    "version": 2.0
   },
   "file_extension": ".py",
   "mimetype": "text/x-python",
   "name": "python",
   "nbconvert_exporter": "python",
   "pygments_lexer": "ipython2",
   "version": "2.7.6"
  }
 },
 "nbformat": 4,
 "nbformat_minor": 0
}