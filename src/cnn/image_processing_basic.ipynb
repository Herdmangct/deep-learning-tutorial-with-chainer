{
 "cells": [
  {
   "cell_type": "markdown",
   "metadata": {
    "collapsed": true
   },
   "source": [
    "# Basic Image Processing tutorial\n",
    "\n",
    "Basic image data manipulation is introduced, using OpenCV library.\n",
    "To install opencv, execute\n",
    "\n",
    "`$conda install -c https://conda.binstar.org/menpo -y opencv3` "
   ]
  },
  {
   "cell_type": "code",
   "execution_count": 25,
   "metadata": {},
   "outputs": [],
   "source": [
    "import os\n",
    "\n",
    "import matplotlib.pyplot as plt\n",
    "import cv2\n",
    "\n",
    "%matplotlib inline\n",
    "\n",
    "def readRGBImage(imagepath):\n",
    "    image = cv2.imread(imagepath)  # Height, Width, Channel\n",
    "    (major, minor, _) = cv2.__version__.split(\".\")\n",
    "    if major == '3':\n",
    "        # version 3 is used, need to convert\n",
    "        image = cv2.cvtColor(image, cv2.COLOR_BGR2RGB)\n",
    "    else:\n",
    "        # Version 2 is used, not necessary to convert\n",
    "        pass\n",
    "    return image"
   ]
  },
  {
   "cell_type": "code",
   "execution_count": 26,
   "metadata": {},
   "outputs": [
    {
     "name": "stdout",
     "output_type": "stream",
     "text": [
      "image.shape (Width, Height, Channel) =  (1426, 1920, 3)\n"
     ]
    }
   ],
   "source": [
    "# Read image from file, save image with matplotlib using `imshow` function\n",
    "basedir = './src/cnn/images'\n",
    "imagepath = os.path.join(basedir, 'sample.jpeg')\n",
    "\n",
    "#image = cv2.imread(imagepath, cv2.IMREAD_GRAYSCALE)\n",
    "image = readRGBImage(imagepath)\n",
    "\n",
    "# Width and Height shows pixel size of this image \n",
    "# Channel=3 indicates the RGB channel \n",
    "print('image.shape (Width, Height, Channel) = ', image.shape)\n",
    "\n",
    "plt.imshow(image)\n",
    "plt.savefig('./src/cnn/images/out.jpg')"
   ]
  },
  {
   "cell_type": "markdown",
   "metadata": {},
   "source": [
    "## Image processing with channels\n",
    "\n",
    "RGB channel manipulation"
   ]
  },
  {
   "cell_type": "code",
   "execution_count": 37,
   "metadata": {},
   "outputs": [],
   "source": [
    "%matplotlib inline\n",
    "# Show RGB channel separately in gray scale\n",
    "\n",
    "fig, axes = plt.subplots(1, 3)\n",
    "\n",
    "# image[:, :, 0] is R channel.\n",
    "axes[0].set_title('R channel')\n",
    "axes[0].imshow(image[:, :, 0], cmap='gray')\n",
    "# image[:, :, 1] is G channel.\n",
    "axes[1].set_title('G channel')\n",
    "axes[1].imshow(image[:, :, 1], cmap='gray')\n",
    "# image[:, :, 2] is B channel.\n",
    "axes[2].set_title('B channel')\n",
    "axes[2].imshow(image[:, :, 2], cmap='gray')\n",
    "plt.savefig(os.path.join(basedir, 'RGB_gray.jpg'))"
   ]
  },
  {
   "cell_type": "code",
   "execution_count": 36,
   "metadata": {},
   "outputs": [],
   "source": [
    "# Show RGB channel separately in color\n",
    "fig, axes = plt.subplots(1, 3)\n",
    "\n",
    "# image[:, :, 0] is R channel, replace the rest by 0.\n",
    "imageR = image.copy()\n",
    "imageR[:, :, 1:3] = 0\n",
    "axes[0].set_title('R channel')\n",
    "axes[0].imshow(imageR)\n",
    "\n",
    "# image[:, :, 1] is G channel, replace the rest by 0.\n",
    "imageG = image.copy()\n",
    "imageG[:, :, [0, 2]] = 0\n",
    "axes[1].set_title('G channel')\n",
    "axes[1].imshow(imageG)\n",
    "\n",
    "# image[:, :, 2] is B channel, replace the rest by 0.\n",
    "imageB = image.copy()\n",
    "imageB[:, :, 0:2] = 0\n",
    "axes[2].set_title('B channel')\n",
    "axes[2].imshow(imageB)\n",
    "plt.savefig(os.path.join(basedir, 'RGB_color.jpg'))"
   ]
  },
  {
   "cell_type": "code",
   "execution_count": null,
   "metadata": {},
   "outputs": [],
   "source": [
    ""
   ]
  }
 ],
 "metadata": {
  "kernelspec": {
   "display_name": "Python 2",
   "language": "python",
   "name": "python2"
  },
  "language_info": {
   "codemirror_mode": {
    "name": "ipython",
    "version": 2.0
   },
   "file_extension": ".py",
   "mimetype": "text/x-python",
   "name": "python",
   "nbconvert_exporter": "python",
   "pygments_lexer": "ipython2",
   "version": "2.7.6"
  }
 },
 "nbformat": 4,
 "nbformat_minor": 0
}