{
 "cells": [
  {
   "cell_type": "code",
   "execution_count": null,
   "metadata": {
    "collapsed": true
   },
   "outputs": [],
   "source": [
    ""
   ]
  },
  {
   "cell_type": "code",
   "execution_count": 7,
   "metadata": {},
   "outputs": [
    {
     "name": "stdout",
     "output_type": "stream",
     "text": [
      "3 <class 'int'>\n 3\ntype <class 'numpy.ndarray'>\ndata <memory at 0x0000019ABAB15A20>\ndtype int32\nshape ()\nndim 0\nsize 1\n[1, 2, 3] <class 'list'>\n[1 2 3] <class 'numpy.ndarray'> int32 (3,)\n[[1, 2, 3], [4, 5, 6]] <class 'list'>\n[[1 2 3]\n [4 5 6]] <class 'numpy.ndarray'> int32 (2, 3) 2 6\n[[[ 1  2  3]\n  [ 4  5  6]]\n\n [[11 22 33]\n  [44 55 66]]] <class 'numpy.ndarray'> int32 (2, 2, 3) 3 12\n"
     ]
    }
   ],
   "source": [
    "import numpy as np\n",
    "\n",
    "def print_numpy_attributes(a):\n",
    "    \"\"\"dumps ``numpy.ndarray`` attribute information \n",
    "    \n",
    "    :param a: \n",
    "    :type a: np.ndarray \n",
    "    :return: \n",
    "    \"\"\"\n",
    "    print('', a)  # data will be printed. this is same with a.data\n",
    "    print('type', type(a))  # should be <class 'numpy.ndarray'>\n",
    "    print('data', a.data)   # actual array data\n",
    "    print('dtype', a.dtype)  # type of data (int, float32 etc)\n",
    "    print('shape', a.shape)  # dimensional information of data (2, 3) etc.\n",
    "    print('ndim', a.ndim)  # total dimension of shape. 0 means scalar, 1 is vector, 2 is matrix... \n",
    "    print('size', a.size)  # total size of data, which is product sum of shape\n",
    "        \n",
    "    \n",
    "# 1. creating scalar\n",
    "l1 = 3\n",
    "a1 = np.array(l1)  # note that np.array([3]) will create vector with 1 element\n",
    "print(l1, type(l1))\n",
    "print_numpy_attributes(a1)\n",
    "\n",
    "\n",
    "# 2. creating vector\n",
    "l2 = [1, 2, 3]\n",
    "print(l2, type(l2))\n",
    "a2 = np.array(l2)\n",
    "print(a2, type(a2), a2.dtype, a2.shape)\n",
    "\n",
    "# 3. creating matrix\n",
    "l3 = [[1, 2, 3], [4, 5, 6]]\n",
    "a3 = np.array(l3)\n",
    "print(l3, type(l3))\n",
    "print(a3, type(a3), a3.dtype, a3.shape, a3.ndim, a3.size)\n",
    "\n",
    "# 4. creating general multi-dimensional array (tensor)\n",
    "a4 = np.array([\n",
    "    [[1, 2, 3], [4, 5, 6]],\n",
    "    [[11, 22, 33], [44, 55, 66]]\n",
    "    ]\n",
    ")\n",
    "print(a4, type(a4), a4.dtype, a4.shape, a4.ndim, a4.size)"
   ]
  },
  {
   "cell_type": "code",
   "execution_count": null,
   "metadata": {},
   "outputs": [],
   "source": [
    ""
   ]
  }
 ],
 "metadata": {
  "kernelspec": {
   "display_name": "Python 2",
   "language": "python",
   "name": "python2"
  },
  "language_info": {
   "codemirror_mode": {
    "name": "ipython",
    "version": 2.0
   },
   "file_extension": ".py",
   "mimetype": "text/x-python",
   "name": "python",
   "nbconvert_exporter": "python",
   "pygments_lexer": "ipython2",
   "version": "2.7.6"
  }
 },
 "nbformat": 4,
 "nbformat_minor": 0
}